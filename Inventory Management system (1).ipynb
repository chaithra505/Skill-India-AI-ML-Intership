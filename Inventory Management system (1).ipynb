{
 "cells": [
  {
   "cell_type": "code",
   "execution_count": 1,
   "metadata": {},
   "outputs": [],
   "source": [
    "import json\n",
    "import time"
   ]
  },
  {
   "cell_type": "code",
   "execution_count": 2,
   "metadata": {},
   "outputs": [],
   "source": [
    "record = {\"1001\": {'name': 'Choclates', 'qn': 100, 'pr': 10},\n",
    "           \"1002\": {'name': 'icecream', 'qn': 500, 'pr': 30}, \n",
    "           \"1003\": {'name': 'cookies', 'qn': 40, 'pr': 100} ,\n",
    "           \"1004\": {'name': 'Books', 'qn': 100, 'pr': 46},\n",
    "           \"1005\": {'name': 'papers', 'qn': 500, 'pr': 4},\n",
    "           \"1006\": {'name': 'snacks', 'qn': 30, 'pr': 20},\n",
    "           \"1007\": {'name': 'glass', 'qn': 10, 'pr': 200},\n",
    "           \"1008\": {'name': 'mask', 'qn': 50, 'pr': 50},\n",
    "           \"1009\": {'name': 'chococake', 'qn': 20, 'pr': 20},\n",
    "           \"1010\": {'name': 'Milk cake', 'qn': 100, 'pr': 65},\n",
    "           \"1011\": {'name': 'snickers', 'qn': 200, 'pr': 25},\n",
    "           \"1012\": {'name': 'sandle', 'qn': 4000, 'pr': 43},\n",
    "           \"1013\": {'name': 'phone', 'qn': 325, 'pr': 10000},\n",
    "           \"1014\": {'name': 'mouse', 'qn': 14, 'pr': 600},\n",
    "           \"1015\": {'name': 'milkybar', 'qn': 30, 'pr': 64}}"
   ]
  },
  {
   "cell_type": "code",
   "execution_count": 3,
   "metadata": {},
   "outputs": [
    {
     "data": {
      "text/plain": [
       "{'1001': {'name': 'Choclates', 'qn': 100, 'pr': 10},\n",
       " '1002': {'name': 'icecream', 'qn': 500, 'pr': 30},\n",
       " '1003': {'name': 'cookies', 'qn': 40, 'pr': 100},\n",
       " '1004': {'name': 'Books', 'qn': 100, 'pr': 46},\n",
       " '1005': {'name': 'papers', 'qn': 500, 'pr': 4},\n",
       " '1006': {'name': 'snacks', 'qn': 30, 'pr': 20},\n",
       " '1007': {'name': 'glass', 'qn': 10, 'pr': 200},\n",
       " '1008': {'name': 'mask', 'qn': 50, 'pr': 50},\n",
       " '1009': {'name': 'chococake', 'qn': 20, 'pr': 20},\n",
       " '1010': {'name': 'Milk cake', 'qn': 100, 'pr': 65},\n",
       " '1011': {'name': 'snickers', 'qn': 200, 'pr': 25},\n",
       " '1012': {'name': 'sandle', 'qn': 4000, 'pr': 43},\n",
       " '1013': {'name': 'phone', 'qn': 325, 'pr': 10000},\n",
       " '1014': {'name': 'mouse', 'qn': 14, 'pr': 600},\n",
       " '1015': {'name': 'milkybar', 'qn': 30, 'pr': 64}}"
      ]
     },
     "execution_count": 3,
     "metadata": {},
     "output_type": "execute_result"
    }
   ],
   "source": [
    "record"
   ]
  },
  {
   "cell_type": "code",
   "execution_count": 4,
   "metadata": {},
   "outputs": [],
   "source": [
    "fd = open('record.json', 'r')\n",
    "t = fd.read()\n",
    "fd.close()\n",
    "\n",
    "fd = open('record.json','w')\n",
    "fd.write(t)\n",
    "fd.close()\n",
    "\n",
    "sales = {}\n",
    "\n",
    "sales = json.dumps(sales)\n",
    "\n",
    "fd = open(\"sales.json\", 'w')\n",
    "fd.write(sales)\n",
    "fd.close()"
   ]
  },
  {
   "cell_type": "code",
   "execution_count": null,
   "metadata": {},
   "outputs": [],
   "source": []
  },
  {
   "cell_type": "code",
   "execution_count": 5,
   "metadata": {},
   "outputs": [],
   "source": [
    "fd = open('record.json','r')\n",
    "t = fd.read()\n",
    "fd.close()\n",
    "dct = json.loads(t)"
   ]
  },
  {
   "cell_type": "code",
   "execution_count": 6,
   "metadata": {},
   "outputs": [
    {
     "data": {
      "text/plain": [
       "dict_keys(['1001', '1002', '1003', '1004', '1005', '1006', '1007', '1008', '1009'])"
      ]
     },
     "execution_count": 6,
     "metadata": {},
     "output_type": "execute_result"
    }
   ],
   "source": [
    "fd = open(\"sales.json\", 'r')\n",
    "sl = fd.read()\n",
    "fd.close()\n",
    "sales = json.loads(sl)\n",
    "dct.keys()"
   ]
  },
  {
   "cell_type": "code",
   "execution_count": 7,
   "metadata": {},
   "outputs": [
    {
     "name": "stdout",
     "output_type": "stream",
     "text": [
      "******************************\n",
      "1001 {'name': 'Choco Cake', 'qn': 29, 'pr': 100}\n",
      "1002 {'name': 'Milk Cake', 'pr': 800, 'qn': 100}\n",
      "1003 {'name': 'Drink', 'pr': 85, 'qn': 100}\n",
      "1004 {'name': 'Candy', 'pr': 5, 'qn': 1000}\n",
      "1005 {'name': 'Pen', 'pr': 20, 'qn': 100}\n",
      "1006 {'name': 'Phone', 'pr': 50000, 'qn': 10}\n",
      "1007 {'name': 'Mic', 'pr': 1500, 'qn': 0}\n",
      "1008 {'name': 'Case', 'pr': 599, 'qn': 5}\n",
      "1009 {'name': 'Keyboard', 'pr': 1999, 'qn': 10}\n",
      "**************************\n",
      "\n",
      "Enter the product_Id: 1002\n",
      "Enter the quantity: 15\n",
      "Name: Milk Cake\n",
      "Price: 800\n",
      "Quantity: 15\n",
      "##############\n",
      "Billing Amount: 12000\n",
      "------------------------------\n",
      "Data Updated in Sales File!\n",
      "Data Updated in Inventory File!\n"
     ]
    }
   ],
   "source": [
    "print(\"******************************\")\n",
    "for i in dct.keys():\n",
    "  print(i, dct[i])\n",
    "\n",
    "print(\"**************************\\n\")\n",
    "ui_prod  = str(input(\"Enter the product_Id: \"))\n",
    "ui_quant = int(input(\"Enter the quantity: \"))\n",
    "\n",
    "\n",
    "if (ui_prod in dct.keys()):                                                     \n",
    "    if (dct[ui_prod]['qn'] >= ui_quant):                                        \n",
    "      print(\"Name:\",dct[ui_prod]['name'])\n",
    "      print(\"Price:\",dct[ui_prod]['pr'])\n",
    "      print(\"Quantity:\", ui_quant)\n",
    "      print(\"##############\")\n",
    "      print(\"Billing Amount:\", dct[ui_prod]['pr'] * ui_quant)\n",
    "\n",
    "      dct[ui_prod]['qn'] = dct[ui_prod]['qn'] - ui_quant                        \n",
    "\n",
    "      sales[str(len(sales)+1)] = {'prod_id' : ui_prod,                          \n",
    "                                  \"time_pr\" :  time.ctime(), \n",
    "                                  'bill' : dct[ui_prod]['pr'] * ui_quant, \n",
    "                                  'qn' : ui_quant, \n",
    "                                  'pr' : dct[ui_prod]['pr'], \n",
    "                                  'pr_name' : dct[ui_prod]['name']}\n",
    "\n",
    "\n",
    "    else:                                                                       \n",
    "      print(\"Sorry, We are not having that much of quantity.\")\n",
    "      print(\"We're only having\",dct[ui_prod]['qn'],\"quantity.\")\n",
    "      print(\"Would you like to purchase or not (Y/N)\")\n",
    "      ch = str(input(\"Y/N\"))\n",
    "      if (ch == \"Y\"):                                                          \n",
    "        print(\"Name:\",dct[ui_prod]['name'])\n",
    "        print(\"Price:\",dct[ui_prod]['pr'])\n",
    "        print(\"Quantity:\", dct[ui_prod]['qn'])\n",
    "        print(\"------------------------------\")\n",
    "        print(\"Billing Amount:\", dct[ui_prod]['pr'] * dct[ui_prod]['qn'])\n",
    "\n",
    "        dct[ui_prod]['qn'] = 0                                                  \n",
    "        sales[str(len(sales)+1)] = {'prod_id' : ui_prod,                        \n",
    "                                    \"time_pr\" :  time.ctime(), \n",
    "                                    'bill' : dct[ui_prod]['pr'] * dct[ui_prod]['qn'], \n",
    "                                    'qn' : dct[ui_prod]['qn'], \n",
    "                                    'pr' : dct[ui_prod]['pr'], \n",
    "                                    'pr_name' : dct[ui_prod]['name']}\n",
    "\n",
    "      else:                                                                     \n",
    "        print(\"Thankyou!\")\n",
    "\n",
    "else:                                                                           \n",
    "  print(\"------------------------------\")\n",
    "  print(\"Product doesn't exist!\")\n",
    "  print(\"Please enter a valid product id\")\n",
    "  print(\"------------------------------\")\n",
    "\n",
    "\n",
    "\n",
    "sl = json.dumps(sales)                                                          \n",
    "fd = open('sales.json','w')\n",
    "fd.write(sl)\n",
    "fd.close()\n",
    "\n",
    "print(\"------------------------------\")\n",
    "print(\"Data Updated in Sales File!\")\n",
    "js = json.dumps(dct)                                                            \n",
    "fd = open('records.json','w')\n",
    "fd.write(js)\n",
    "fd.close()\n",
    "\n",
    "print(\"Data Updated in Inventory File!\")"
   ]
  },
  {
   "cell_type": "code",
   "execution_count": 8,
   "metadata": {},
   "outputs": [
    {
     "data": {
      "text/plain": [
       "{'1001': {'name': 'Choco Cake', 'qn': 29, 'pr': 100},\n",
       " '1002': {'name': 'Milk Cake', 'pr': 800, 'qn': 85},\n",
       " '1003': {'name': 'Drink', 'pr': 85, 'qn': 100},\n",
       " '1004': {'name': 'Candy', 'pr': 5, 'qn': 1000},\n",
       " '1005': {'name': 'Pen', 'pr': 20, 'qn': 100},\n",
       " '1006': {'name': 'Phone', 'pr': 50000, 'qn': 10},\n",
       " '1007': {'name': 'Mic', 'pr': 1500, 'qn': 0},\n",
       " '1008': {'name': 'Case', 'pr': 599, 'qn': 5},\n",
       " '1009': {'name': 'Keyboard', 'pr': 1999, 'qn': 10}}"
      ]
     },
     "execution_count": 8,
     "metadata": {},
     "output_type": "execute_result"
    }
   ],
   "source": [
    "dct"
   ]
  },
  {
   "cell_type": "code",
   "execution_count": 9,
   "metadata": {},
   "outputs": [
    {
     "data": {
      "text/plain": [
       "{'1': {'prod_id': '1002',\n",
       "  'time_pr': 'Fri Sep 17 13:53:00 2021',\n",
       "  'bill': 12000,\n",
       "  'qn': 15,\n",
       "  'pr': 800,\n",
       "  'pr_name': 'Milk Cake'}}"
      ]
     },
     "execution_count": 9,
     "metadata": {},
     "output_type": "execute_result"
    }
   ],
   "source": [
    "sales\n"
   ]
  },
  {
   "cell_type": "code",
   "execution_count": 10,
   "metadata": {},
   "outputs": [
    {
     "data": {
      "text/plain": [
       "{'1001': {'name': 'Choclates', 'qn': 100, 'pr': 10},\n",
       " '1002': {'name': 'icecream', 'qn': 500, 'pr': 30},\n",
       " '1003': {'name': 'cookies', 'qn': 40, 'pr': 100},\n",
       " '1004': {'name': 'Books', 'qn': 100, 'pr': 46},\n",
       " '1005': {'name': 'papers', 'qn': 500, 'pr': 4},\n",
       " '1006': {'name': 'snacks', 'qn': 30, 'pr': 20},\n",
       " '1007': {'name': 'glass', 'qn': 10, 'pr': 200},\n",
       " '1008': {'name': 'mask', 'qn': 50, 'pr': 50},\n",
       " '1009': {'name': 'chococake', 'qn': 20, 'pr': 20},\n",
       " '1010': {'name': 'Milk cake', 'qn': 100, 'pr': 65},\n",
       " '1011': {'name': 'snickers', 'qn': 200, 'pr': 25},\n",
       " '1012': {'name': 'sandle', 'qn': 4000, 'pr': 43},\n",
       " '1013': {'name': 'phone', 'qn': 325, 'pr': 10000},\n",
       " '1014': {'name': 'mouse', 'qn': 14, 'pr': 600},\n",
       " '1015': {'name': 'milkybar', 'qn': 30, 'pr': 64}}"
      ]
     },
     "execution_count": 10,
     "metadata": {},
     "output_type": "execute_result"
    }
   ],
   "source": [
    "{\"1001\": {'name': 'Choclates', 'qn': 100, 'pr': 10},\n",
    "           \"1002\": {'name': 'icecream', 'qn': 500, 'pr': 30}, \n",
    "           \"1003\": {'name': 'cookies', 'qn': 40, 'pr': 100} ,\n",
    "           \"1004\": {'name': 'Books', 'qn': 100, 'pr': 46},\n",
    "           \"1005\": {'name': 'papers', 'qn': 500, 'pr': 4},\n",
    "           \"1006\": {'name': 'snacks', 'qn': 30, 'pr': 20},\n",
    "           \"1007\": {'name': 'glass', 'qn': 10, 'pr': 200},\n",
    "           \"1008\": {'name': 'mask', 'qn': 50, 'pr': 50},\n",
    "           \"1009\": {'name': 'chococake', 'qn': 20, 'pr': 20},\n",
    "           \"1010\": {'name': 'Milk cake', 'qn': 100, 'pr': 65},\n",
    "           \"1011\": {'name': 'snickers', 'qn': 200, 'pr': 25},\n",
    "           \"1012\": {'name': 'sandle', 'qn': 4000, 'pr': 43},\n",
    "           \"1013\": {'name': 'phone', 'qn': 325, 'pr': 10000},\n",
    "           \"1014\": {'name': 'mouse', 'qn': 14, 'pr': 600},\n",
    "           \"1015\": {'name': 'milkybar', 'qn': 30, 'pr': 64}}"
   ]
  },
  {
   "cell_type": "code",
   "execution_count": null,
   "metadata": {},
   "outputs": [],
   "source": []
  },
  {
   "cell_type": "code",
   "execution_count": null,
   "metadata": {},
   "outputs": [],
   "source": []
  }
 ],
 "metadata": {
  "kernelspec": {
   "display_name": "Python 3",
   "language": "python",
   "name": "python3"
  },
  "language_info": {
   "codemirror_mode": {
    "name": "ipython",
    "version": 3
   },
   "file_extension": ".py",
   "mimetype": "text/x-python",
   "name": "python",
   "nbconvert_exporter": "python",
   "pygments_lexer": "ipython3",
   "version": "3.8.3"
  }
 },
 "nbformat": 4,
 "nbformat_minor": 4
}
